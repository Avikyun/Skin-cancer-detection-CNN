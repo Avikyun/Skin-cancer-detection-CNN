{
 "cells": [
  {
   "cell_type": "code",
   "execution_count": 1,
   "id": "911db29a",
   "metadata": {},
   "outputs": [
    {
     "name": "stdout",
     "output_type": "stream",
     "text": [
      "{'classification': 'Benign', 'probability': 99.93281364440918}\n"
     ]
    }
   ],
   "source": [
    "import requests\n",
    "\n",
    "url = 'http://127.0.0.1:5000/classify'\n",
    "\n",
    "image_file_path = '/Users/avikun/Documents/Skin-Cancer-Detector/Dataset/test/benign/9.jpg'\n",
    "\n",
    "with open(image_file_path, 'rb') as image_file:\n",
    "    files = {'image': image_file}\n",
    "    response = requests.post(url, files=files)\n",
    "\n",
    "print(response.json())"
   ]
  }
 ],
 "metadata": {
  "kernelspec": {
   "display_name": "Python 3 (ipykernel)",
   "language": "python",
   "name": "python3"
  },
  "language_info": {
   "codemirror_mode": {
    "name": "ipython",
    "version": 3
   },
   "file_extension": ".py",
   "mimetype": "text/x-python",
   "name": "python",
   "nbconvert_exporter": "python",
   "pygments_lexer": "ipython3",
   "version": "3.10.9"
  }
 },
 "nbformat": 4,
 "nbformat_minor": 5
}
